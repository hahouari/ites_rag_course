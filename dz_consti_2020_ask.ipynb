{
 "cells": [
  {
   "cell_type": "markdown",
   "metadata": {},
   "source": [
    "# Creating a Chatbot linked to the Database"
   ]
  },
  {
   "cell_type": "markdown",
   "metadata": {},
   "source": [
    "## 1. Importing libraries"
   ]
  },
  {
   "cell_type": "code",
   "execution_count": 5,
   "metadata": {},
   "outputs": [
    {
     "name": "stdout",
     "output_type": "stream",
     "text": [
      "Requirement already satisfied: surrealdb==1.0.3 in c:\\users\\hahouari\\anaconda3\\envs\\rag_course\\lib\\site-packages (1.0.3)\n",
      "Requirement already satisfied: google-genai==1.2.0 in c:\\users\\hahouari\\anaconda3\\envs\\rag_course\\lib\\site-packages (1.2.0)\n",
      "Requirement already satisfied: python-dotenv==1.0.1 in c:\\users\\hahouari\\anaconda3\\envs\\rag_course\\lib\\site-packages (1.0.1)\n",
      "Requirement already satisfied: Cerberus==1.3.7 in c:\\users\\hahouari\\anaconda3\\envs\\rag_course\\lib\\site-packages (from surrealdb==1.0.3) (1.3.7)\n",
      "Requirement already satisfied: aiohappyeyeballs==2.4.4 in c:\\users\\hahouari\\anaconda3\\envs\\rag_course\\lib\\site-packages (from surrealdb==1.0.3) (2.4.4)\n",
      "Requirement already satisfied: aiohttp==3.11.11 in c:\\users\\hahouari\\anaconda3\\envs\\rag_course\\lib\\site-packages (from surrealdb==1.0.3) (3.11.11)\n",
      "Requirement already satisfied: aiosignal==1.3.2 in c:\\users\\hahouari\\anaconda3\\envs\\rag_course\\lib\\site-packages (from surrealdb==1.0.3) (1.3.2)\n",
      "Requirement already satisfied: async-timeout==5.0.1 in c:\\users\\hahouari\\anaconda3\\envs\\rag_course\\lib\\site-packages (from surrealdb==1.0.3) (5.0.1)\n",
      "Requirement already satisfied: attrs==25.1.0 in c:\\users\\hahouari\\anaconda3\\envs\\rag_course\\lib\\site-packages (from surrealdb==1.0.3) (25.1.0)\n",
      "Requirement already satisfied: cbor2==5.6.5 in c:\\users\\hahouari\\anaconda3\\envs\\rag_course\\lib\\site-packages (from surrealdb==1.0.3) (5.6.5)\n",
      "Requirement already satisfied: certifi==2024.12.14 in c:\\users\\hahouari\\anaconda3\\envs\\rag_course\\lib\\site-packages (from surrealdb==1.0.3) (2024.12.14)\n",
      "Requirement already satisfied: charset-normalizer==3.4.1 in c:\\users\\hahouari\\anaconda3\\envs\\rag_course\\lib\\site-packages (from surrealdb==1.0.3) (3.4.1)\n",
      "Requirement already satisfied: frozenlist==1.5.0 in c:\\users\\hahouari\\anaconda3\\envs\\rag_course\\lib\\site-packages (from surrealdb==1.0.3) (1.5.0)\n",
      "Requirement already satisfied: idna==3.10 in c:\\users\\hahouari\\anaconda3\\envs\\rag_course\\lib\\site-packages (from surrealdb==1.0.3) (3.10)\n",
      "Requirement already satisfied: marshmallow==3.26.0 in c:\\users\\hahouari\\anaconda3\\envs\\rag_course\\lib\\site-packages (from surrealdb==1.0.3) (3.26.0)\n",
      "Requirement already satisfied: multidict==6.1.0 in c:\\users\\hahouari\\anaconda3\\envs\\rag_course\\lib\\site-packages (from surrealdb==1.0.3) (6.1.0)\n",
      "Requirement already satisfied: packaging==24.2 in c:\\users\\hahouari\\anaconda3\\envs\\rag_course\\lib\\site-packages (from surrealdb==1.0.3) (24.2)\n",
      "Requirement already satisfied: propcache==0.2.1 in c:\\users\\hahouari\\anaconda3\\envs\\rag_course\\lib\\site-packages (from surrealdb==1.0.3) (0.2.1)\n",
      "Requirement already satisfied: pytz==2024.2 in c:\\users\\hahouari\\anaconda3\\envs\\rag_course\\lib\\site-packages (from surrealdb==1.0.3) (2024.2)\n",
      "Requirement already satisfied: requests==2.32.3 in c:\\users\\hahouari\\anaconda3\\envs\\rag_course\\lib\\site-packages (from surrealdb==1.0.3) (2.32.3)\n",
      "Requirement already satisfied: typing_extensions==4.12.2 in c:\\users\\hahouari\\anaconda3\\envs\\rag_course\\lib\\site-packages (from surrealdb==1.0.3) (4.12.2)\n",
      "Requirement already satisfied: urllib3==2.3.0 in c:\\users\\hahouari\\anaconda3\\envs\\rag_course\\lib\\site-packages (from surrealdb==1.0.3) (2.3.0)\n",
      "Requirement already satisfied: websockets==14.2 in c:\\users\\hahouari\\anaconda3\\envs\\rag_course\\lib\\site-packages (from surrealdb==1.0.3) (14.2)\n",
      "Requirement already satisfied: yarl==1.18.3 in c:\\users\\hahouari\\anaconda3\\envs\\rag_course\\lib\\site-packages (from surrealdb==1.0.3) (1.18.3)\n",
      "Requirement already satisfied: google-auth<3.0.0dev,>=2.14.1 in c:\\users\\hahouari\\anaconda3\\envs\\rag_course\\lib\\site-packages (from google-genai==1.2.0) (2.38.0)\n",
      "Requirement already satisfied: pydantic<3.0.0dev,>=2.0.0 in c:\\users\\hahouari\\anaconda3\\envs\\rag_course\\lib\\site-packages (from google-genai==1.2.0) (2.10.2)\n",
      "Requirement already satisfied: cachetools<6.0,>=2.0.0 in c:\\users\\hahouari\\anaconda3\\envs\\rag_course\\lib\\site-packages (from google-auth<3.0.0dev,>=2.14.1->google-genai==1.2.0) (5.5.1)\n",
      "Requirement already satisfied: pyasn1-modules>=0.2.1 in c:\\users\\hahouari\\anaconda3\\envs\\rag_course\\lib\\site-packages (from google-auth<3.0.0dev,>=2.14.1->google-genai==1.2.0) (0.4.1)\n",
      "Requirement already satisfied: rsa<5,>=3.1.4 in c:\\users\\hahouari\\anaconda3\\envs\\rag_course\\lib\\site-packages (from google-auth<3.0.0dev,>=2.14.1->google-genai==1.2.0) (4.9)\n",
      "Requirement already satisfied: annotated-types>=0.6.0 in c:\\users\\hahouari\\anaconda3\\envs\\rag_course\\lib\\site-packages (from pydantic<3.0.0dev,>=2.0.0->google-genai==1.2.0) (0.7.0)\n",
      "Requirement already satisfied: pydantic-core==2.27.1 in c:\\users\\hahouari\\anaconda3\\envs\\rag_course\\lib\\site-packages (from pydantic<3.0.0dev,>=2.0.0->google-genai==1.2.0) (2.27.1)\n",
      "Requirement already satisfied: pyasn1<0.7.0,>=0.4.6 in c:\\users\\hahouari\\anaconda3\\envs\\rag_course\\lib\\site-packages (from pyasn1-modules>=0.2.1->google-auth<3.0.0dev,>=2.14.1->google-genai==1.2.0) (0.6.1)\n",
      "Note: you may need to restart the kernel to use updated packages.\n"
     ]
    }
   ],
   "source": [
    "%pip install surrealdb==1.0.3 google-genai==1.2.0 python-dotenv==1.0.1"
   ]
  },
  {
   "cell_type": "code",
   "execution_count": 11,
   "metadata": {},
   "outputs": [
    {
     "data": {
      "text/plain": [
       "True"
      ]
     },
     "execution_count": 11,
     "metadata": {},
     "output_type": "execute_result"
    }
   ],
   "source": [
    "from surrealdb import Surreal\n",
    "from dotenv import load_dotenv\n",
    "from google import genai\n",
    "from google.genai import types\n",
    "import os\n",
    "import json\n",
    "\n",
    "load_dotenv(override=True)"
   ]
  },
  {
   "cell_type": "markdown",
   "metadata": {},
   "source": [
    "## 2. Connect to the database"
   ]
  },
  {
   "cell_type": "code",
   "execution_count": 6,
   "metadata": {},
   "outputs": [
    {
     "name": "stdout",
     "output_type": "stream",
     "text": [
      "surrealdb-2.2.0\n"
     ]
    }
   ],
   "source": [
    "db = Surreal(os.getenv(\"SURREAL_URL\"))\n",
    "db.signin({\"username\": os.getenv(\"SURREAL_USER\"), \"password\": os.getenv(\"SURREAL_PASS\")})\n",
    "db.use(os.getenv(\"SURREAL_NAMESPACE\"), os.getenv(\"SURREAL_DATABASE\"))\n",
    "\n",
    "print(db.version())"
   ]
  },
  {
   "cell_type": "markdown",
   "metadata": {},
   "source": [
    "## 4. Embed articles and save to database"
   ]
  },
  {
   "cell_type": "code",
   "execution_count": 16,
   "metadata": {},
   "outputs": [
    {
     "name": "stdout",
     "output_type": "stream",
     "text": [
      "[\n",
      "  {\n",
      "    \"score\": 0.852378955900973,\n",
      "    \"text\": \"المــادّة الأولى : الجزائر جمهوريّة ديمقراطيّة شعبيّة. وهي وحدة لا تتجزّأ.\"\n",
      "  },\n",
      "  {\n",
      "    \"score\": 0.7908012383471339,\n",
      "    \"text\": \"المادة 2 : الإسلام  دين الدّولة.\"\n",
      "  },\n",
      "  {\n",
      "    \"score\": 0.76106422425549,\n",
      "    \"text\": \"المادة 10 : لا يجوز للمؤسّسات أن تقوم بما يأتي : - الممارسات الإقطاعيّة، والجهويّة، والمحسوبيّة، - إقامة علاقات الاستغلال والتّبعيّة، - السّلوك المخالف للخُلُق الإسلاميّ وقيم ثورة نوفمبر.\"\n",
      "  },\n",
      "  {\n",
      "    \"score\": 0.7561947051209077,\n",
      "    \"text\": \"المادة 8 : السّلطة التّأسيسيّة ملك للشّعب. يمارس الشّعب سيادته بواسطة المؤسّسات الدّستوريّة الّتي يختارها. يمارس الشّعب هذه السّيادة أيضا عن طريق الاستفتاء وبواسطة ممثّليه المنتخَبين. لرئيس الجمهوريّة أن يلتجئ إلى إرادة الشّعب مباشرة.\"\n",
      "  },\n",
      "  {\n",
      "    \"score\": 0.7550015091041741,\n",
      "    \"text\": \"المادة 16 : الجماعات الإقليميّة للدّولة هي البلديّة والولاية. البلديّة هي الجماعة القاعديّة.\"\n",
      "  }\n",
      "]\n",
      "\n",
      "```context\n",
      "المــادّة الأولى : الجزائر جمهوريّة ديمقراطيّة شعبيّة. وهي وحدة لا تتجزّأ.\n",
      "المادة 2 : الإسلام  دين الدّولة.\n",
      "المادة 10 : لا يجوز للمؤسّسات أن تقوم بما يأتي : - الممارسات الإقطاعيّة، والجهويّة، والمحسوبيّة، - إقامة علاقات الاستغلال والتّبعيّة، - السّلوك المخالف للخُلُق الإسلاميّ وقيم ثورة نوفمبر.\n",
      "المادة 8 : السّلطة التّأسيسيّة ملك للشّعب. يمارس الشّعب سيادته بواسطة المؤسّسات الدّستوريّة الّتي يختارها. يمارس الشّعب هذه السّيادة أيضا عن طريق الاستفتاء وبواسطة ممثّليه المنتخَبين. لرئيس الجمهوريّة أن يلتجئ إلى إرادة الشّعب مباشرة.\n",
      "المادة 16 : الجماعات الإقليميّة للدّولة هي البلديّة والولاية. البلديّة هي الجماعة القاعديّة.\n",
      "```\n",
      "```question\n",
      "معلومات عن الانتخابات\n",
      "```\n",
      "\n",
      "------------------\n",
      "\n",
      "لا يمكنني الإجابة على هذا السؤال بناءً على المعلومات المتوفرة."
     ]
    }
   ],
   "source": [
    "client = genai.Client(api_key=os.getenv(\"GEMINI_API_KEY\"))\n",
    "embed_model_name = \"text-embedding-004\"\n",
    "llm_model_name = \"gemini-2.0-flash\"\n",
    "sys_instruct = \"\"\"\n",
    "You are an Algerian legal expert AI trained to provide accurate answers.\n",
    "You must strictly base your answer on the provided context.\n",
    "You must avoid at all cost to mention in your answer that you are being provided with context.\n",
    "You must strictly answer in Arabic.\n",
    "Translate the keywords from context to Arabic.\n",
    "Your response must adhere to any requested format in the question, if present.\n",
    "Interpret the context to extract required information and present it directly, without mentioning the reasoning process.\n",
    "If not, state clearly that you are unable to answer the question.\n",
    "Do not fabricate or assume facts.\n",
    "\"\"\".strip()\n",
    "\n",
    "def search_articles(query):\n",
    "    # more about this on https://ai.google.dev/gemini-api/docs/embeddings#python\n",
    "    response = client.models.embed_content(\n",
    "        model=embed_model_name,\n",
    "        contents=query,\n",
    "    )\n",
    "    q_vector = response.embeddings[0].values\n",
    "\n",
    "    results = db.query(\"\"\"\n",
    "        SELECT\n",
    "            text,\n",
    "            vector::similarity::cosine(embed_vector, $q_vector) AS score\n",
    "        FROM articles\n",
    "        ORDER BY score DESC\n",
    "        LIMIT 5\n",
    "        \"\"\",\n",
    "        {\"q_vector\": q_vector}\n",
    "    )\n",
    "\n",
    "    print(json.dumps(results, indent=2, ensure_ascii=False), end=\"\\n\\n\")\n",
    "    return results\n",
    "\n",
    "def ask_question(query):\n",
    "    articles = search_articles(query)\n",
    "\n",
    "    user_prompt = \"```context\\n\"\n",
    "    for article in articles:\n",
    "        user_prompt += f\"{article['text']}\\n\"\n",
    "    user_prompt += \"```\\n\"\n",
    "    user_prompt += f\"```question\\n{query}\\n```\"\n",
    "\n",
    "    print(user_prompt)\n",
    "    print(\"\\n------------------\\n\")\n",
    "\n",
    "    # more about this on https://ai.google.dev/gemini-api/docs/text-generation?lang=python#system-instructions\n",
    "    stream = client.models.generate_content_stream(\n",
    "        model=llm_model_name,\n",
    "        config=types.GenerateContentConfig(system_instruction=sys_instruct),\n",
    "        contents=[user_prompt]\n",
    "    )\n",
    "    \n",
    "    for chunk in stream:\n",
    "        text_chunk = chunk.text\n",
    "        if text_chunk is None:\n",
    "            continue\n",
    "        print(text_chunk, end=\"\")\n",
    "\n",
    "# question = \"if I'm christian, what should I do in Algeria? and give me brief answer\"\n",
    "# question = \"Anything about family law\"\n",
    "question = \"معلومات عن الانتخابات\"\n",
    "ask_question(question)"
   ]
  },
  {
   "cell_type": "markdown",
   "metadata": {},
   "source": [
    "### Useful links\n",
    "\n",
    "- https://ai.google.dev/\n",
    "- https://aistudio.google.com/\n",
    "- https://ai.google.dev/gemini-api/docs/rate-limits"
   ]
  },
  {
   "cell_type": "markdown",
   "metadata": {},
   "source": []
  }
 ],
 "metadata": {
  "kernelspec": {
   "display_name": "rag_course",
   "language": "python",
   "name": "python3"
  },
  "language_info": {
   "codemirror_mode": {
    "name": "ipython",
    "version": 3
   },
   "file_extension": ".py",
   "mimetype": "text/x-python",
   "name": "python",
   "nbconvert_exporter": "python",
   "pygments_lexer": "ipython3",
   "version": "3.12.7"
  }
 },
 "nbformat": 4,
 "nbformat_minor": 2
}
