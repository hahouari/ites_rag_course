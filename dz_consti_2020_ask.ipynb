{
 "cells": [
  {
   "cell_type": "markdown",
   "metadata": {},
   "source": [
    "# Creating a Chatbot linked to the Database"
   ]
  },
  {
   "cell_type": "markdown",
   "metadata": {},
   "source": [
    "## 1. Importing libraries"
   ]
  },
  {
   "cell_type": "code",
   "execution_count": null,
   "metadata": {},
   "outputs": [
    {
     "name": "stdout",
     "output_type": "stream",
     "text": [
      "Requirement already satisfied: surrealist in c:\\users\\hahouari\\anaconda3\\envs\\rag_course\\lib\\site-packages (1.0.7)\n",
      "Requirement already satisfied: einops in c:\\users\\hahouari\\anaconda3\\envs\\rag_course\\lib\\site-packages (0.8.0)\n",
      "Requirement already satisfied: openai in c:\\users\\hahouari\\anaconda3\\envs\\rag_course\\lib\\site-packages (1.55.2)\n",
      "Requirement already satisfied: python-dotenv in c:\\users\\hahouari\\anaconda3\\envs\\rag_course\\lib\\site-packages (1.0.1)\n",
      "Requirement already satisfied: websocket-client in c:\\users\\hahouari\\anaconda3\\envs\\rag_course\\lib\\site-packages (from surrealist) (1.8.0)\n",
      "Requirement already satisfied: anyio<5,>=3.5.0 in c:\\users\\hahouari\\anaconda3\\envs\\rag_course\\lib\\site-packages (from openai) (4.6.2.post1)\n",
      "Requirement already satisfied: distro<2,>=1.7.0 in c:\\users\\hahouari\\anaconda3\\envs\\rag_course\\lib\\site-packages (from openai) (1.9.0)\n",
      "Requirement already satisfied: httpx<1,>=0.23.0 in c:\\users\\hahouari\\anaconda3\\envs\\rag_course\\lib\\site-packages (from openai) (0.27.2)\n",
      "Requirement already satisfied: jiter<1,>=0.4.0 in c:\\users\\hahouari\\anaconda3\\envs\\rag_course\\lib\\site-packages (from openai) (0.8.0)\n",
      "Requirement already satisfied: pydantic<3,>=1.9.0 in c:\\users\\hahouari\\anaconda3\\envs\\rag_course\\lib\\site-packages (from openai) (2.10.2)\n",
      "Requirement already satisfied: sniffio in c:\\users\\hahouari\\anaconda3\\envs\\rag_course\\lib\\site-packages (from openai) (1.3.1)\n",
      "Requirement already satisfied: tqdm>4 in c:\\users\\hahouari\\anaconda3\\envs\\rag_course\\lib\\site-packages (from openai) (4.67.1)\n",
      "Requirement already satisfied: typing-extensions<5,>=4.11 in c:\\users\\hahouari\\anaconda3\\envs\\rag_course\\lib\\site-packages (from openai) (4.12.2)\n",
      "Requirement already satisfied: idna>=2.8 in c:\\users\\hahouari\\anaconda3\\envs\\rag_course\\lib\\site-packages (from anyio<5,>=3.5.0->openai) (3.10)\n",
      "Requirement already satisfied: certifi in c:\\users\\hahouari\\anaconda3\\envs\\rag_course\\lib\\site-packages (from httpx<1,>=0.23.0->openai) (2024.8.30)\n",
      "Requirement already satisfied: httpcore==1.* in c:\\users\\hahouari\\anaconda3\\envs\\rag_course\\lib\\site-packages (from httpx<1,>=0.23.0->openai) (1.0.7)\n",
      "Requirement already satisfied: h11<0.15,>=0.13 in c:\\users\\hahouari\\anaconda3\\envs\\rag_course\\lib\\site-packages (from httpcore==1.*->httpx<1,>=0.23.0->openai) (0.14.0)\n",
      "Requirement already satisfied: annotated-types>=0.6.0 in c:\\users\\hahouari\\anaconda3\\envs\\rag_course\\lib\\site-packages (from pydantic<3,>=1.9.0->openai) (0.7.0)\n",
      "Requirement already satisfied: pydantic-core==2.27.1 in c:\\users\\hahouari\\anaconda3\\envs\\rag_course\\lib\\site-packages (from pydantic<3,>=1.9.0->openai) (2.27.1)\n",
      "Requirement already satisfied: colorama in c:\\users\\hahouari\\anaconda3\\envs\\rag_course\\lib\\site-packages (from tqdm>4->openai) (0.4.6)\n",
      "Note: you may need to restart the kernel to use updated packages.\n"
     ]
    }
   ],
   "source": [
    "%pip install surrealist openai python-dotenv"
   ]
  },
  {
   "cell_type": "code",
   "execution_count": 22,
   "metadata": {},
   "outputs": [],
   "source": [
    "from surrealist import Surreal\n",
    "from openai import OpenAI\n",
    "import os\n",
    "\n",
    "%reload_ext dotenv\n",
    "%dotenv .env"
   ]
  },
  {
   "cell_type": "markdown",
   "metadata": {},
   "source": [
    "## 2. Connect to the database"
   ]
  },
  {
   "cell_type": "code",
   "execution_count": 23,
   "metadata": {},
   "outputs": [
    {
     "name": "stdout",
     "output_type": "stream",
     "text": [
      "True\n",
      "surrealdb-2.1.2\n"
     ]
    }
   ],
   "source": [
    "surreal = Surreal(\"http://127.0.0.1:28900\", credentials=(os.getenv(\"SURREAL_USER\"), os.getenv(\"SURREAL_PASS\"))) \n",
    "print(surreal.is_ready())\n",
    "print(surreal.version())"
   ]
  },
  {
   "cell_type": "markdown",
   "metadata": {},
   "source": [
    "## 4. Embed articles and save to database"
   ]
  },
  {
   "cell_type": "code",
   "execution_count": null,
   "metadata": {},
   "outputs": [
    {
     "name": "stdout",
     "output_type": "stream",
     "text": [
      "```context\n",
      "المادة 193 : تُلزم السلطات العمومية المكلفة بتنظيم الانتخابات بإحاطاتها بالشفافية والحياد. وبهذه الصفة، توضع القائمة الانتخابية عند كل انتخاب تحت تصرف المترشحين. يحدد القانون العضوي المتعلق بنظام الانتخابات كيفيات تطبيق هذا الحكم.\n",
      "المادة 178 : تضطلع المجالس المنتخَبة بوظيفة الرّقابة في مدلولها الشّعبيّ.\n",
      "المادة 194 : تُحدث هيئة عليا مستقلة لمراقبة الانتخابات. ترأس الهيئة شخصية وطنية يعينها رئيس الجمهورية، بعد استشارة الأحزاب السياسية. للهيئة العليا لجنة دائمة. وتنشر الهيئة العليا أعضاءها الآخرين فور استدعاء الهيئة الانتخابية. تتكون الهيئة العليا بشكل متساو من : - قضاة يقترحهم المجلس الأعلى للقضاء، ويعينهم رئيس الجمهورية، - وكفاءات مستقلة يتم اختيارها من ضمن المجتمع المدني، يعينها رئيس الجمهورية. تسهر اللجنة العليا على شفافية الانتخابات الرئاسية والتشريعية والمحلية وكذا الاستفتاء ونزاهتها، منذ استدعاء الهيئة الناخبة حتى إعلان النتائج المؤقتة للاقتراع. تسهر اللجنة الدائمة للهيئة العليا على الخصوص على ما يأتي : - الإشراف على عمليات مراجعة الإدارة للقوائم الانتخابية، - صياغة التوصيات لتحسين النصوص التشريعية والتنظيمية التي تحكم العمليات الانتخابية، - تنظيم دورة في التكوين المدني لفائدة التشكيلات السياسية حول مراقبة الانتخابات وصياغة الطعون. يحدد القانون العضوي كيفيات تطبيق هذه المادة.\n",
      "المادة 206 : يُحدث مجلس وطني للبحث العلمي والتكنولوجيات، يدعى في صلب النص \"المجلس\".\n",
      "المادة 184 : يجب على أعضاء المجلس الدستوري المنتخبين أو المعينين ما يأتي : - بلوغ سن أربعين (04) سنة كاملة يوم تعيينهم أو انتخابهم، - التمتع بخبرة مهنية مدتها خمس عشرة (51) سنة على الأقل في التعليم العالي في العلوم القانونية، أو في القضاء،  أو في مهنة محام لدى المحكمة العليا أو لدى مجلس الدولة أو في وظيفة عليا في الدولة.\n",
      "```\n",
      "```question\n",
      "معلومات عن الانتخابات\n",
      "```\n",
      "\n",
      "------------------\n",
      "\n",
      "The provided information outlines several key aspects of the electoral process in Algeria:\n",
      "\n",
      "1. **Transparency and Neutrality**: Public authorities responsible for organizing elections are required to ensure transparency and neutrality. The electoral list must be made available to candidates during each election.\n",
      "\n",
      "2. **Electoral Monitoring**: A High Independent Authority is established to oversee elections, chaired by a national figure appointed by the President after consulting political parties. This authority includes a permanent committee.\n",
      "\n",
      "3. **Composition of the Authority**: The High Authority is composed equally of:\n",
      "   - Judges proposed by the Supreme Judicial Council and appointed by the President.\n",
      "   - Independent experts selected from civil society, also appointed by the President.\n",
      "\n",
      "4. **Responsibilities**: The High Authority ensures the transparency and integrity of presidential, legislative, and local elections, as well as referenda. This includes overseeing the administration's review of electoral lists, recommending legislative and regulatory improvements for electoral processes, and organizing training sessions for political formations on election monitoring and drafting appeals.\n",
      "\n",
      "5. **Electoral Law**: The organic law concerning the electoral system specifies how these provisions are to be implemented. \n",
      "\n",
      "This summarizes the regulatory framework and oversight mechanisms for elections in Algeria."
     ]
    }
   ],
   "source": [
    "client = OpenAI() # api key loaded from .env\n",
    "embed_model_name = \"text-embedding-3-small\"\n",
    "llm_model_name = \"gpt-4o-mini\"\n",
    "system_prompt = \"\"\"\n",
    "You are an Algerian legal expert AI trained to provide accurate answers.\n",
    "You must strictly base your answer on the provided context.\n",
    "You must avoid at all cost to mention in your answer that you are being provided with context.\n",
    "You must strictly answer in English.\n",
    "Translate the keywords from context to English.\n",
    "Your response must adhere to any requested format in the question, if present.\n",
    "Interpret the context to extract required information and present it directly, without mentioning the reasoning process.\n",
    "If not, state clearly that you are unable to answer the question.\n",
    "Do not fabricate or assume facts.\n",
    "\"\"\".strip()\n",
    "\n",
    "def search_articles(query):\n",
    "    response = client.embeddings.create(\n",
    "        input=query,\n",
    "        model=embed_model_name,\n",
    "    )\n",
    "    q_vector = response.data[0].embedding\n",
    "\n",
    "    with surreal.connect() as db:\n",
    "        db.use(os.getenv(\"SURREAL_NAMESPACE\"), os.getenv(\"SURREAL_DATABASE\"))\n",
    "        res = db.query(\"SELECT text, vector::similarity::cosine(embed_vector, $q_vector) AS sim FROM articles ORDER BY sim DESC LIMIT 5\", {\"q_vector\": q_vector})\n",
    "\n",
    "    return res.result\n",
    "\n",
    "def ask_question(query):\n",
    "    articles = search_articles(query)\n",
    "\n",
    "    user_prompt = \"```context\\n\"\n",
    "    for article in articles:\n",
    "        user_prompt += f\"{article['text']}\\n\"\n",
    "    user_prompt += \"```\\n\"\n",
    "    user_prompt += f\"```question\\n{query}\\n```\"\n",
    "\n",
    "    print(user_prompt)\n",
    "    print(\"\\n------------------\\n\")\n",
    "\n",
    "    stream = client.chat.completions.create(\n",
    "        model=llm_model_name,\n",
    "        messages=[\n",
    "            {\"role\": \"system\", \"content\": system_prompt},\n",
    "            {\"role\": \"user\", \"content\": user_prompt},\n",
    "        ],\n",
    "        stream=True,\n",
    "    )\n",
    "    \n",
    "    for chunk in stream:\n",
    "        text_chunk = chunk.choices[0].delta.content\n",
    "        if text_chunk is None:\n",
    "            continue\n",
    "        print(text_chunk, end=\"\")\n",
    "\n",
    "# question = \"if I'm christian, what should I do in Algeria? and give me brief answer\"\n",
    "# question = \"Anything about family law\"\n",
    "question = \"معلومات عن الانتخابات\"\n",
    "ask_question(question)"
   ]
  },
  {
   "cell_type": "code",
   "execution_count": null,
   "metadata": {},
   "outputs": [],
   "source": []
  }
 ],
 "metadata": {
  "kernelspec": {
   "display_name": "rag_course",
   "language": "python",
   "name": "python3"
  },
  "language_info": {
   "codemirror_mode": {
    "name": "ipython",
    "version": 3
   },
   "file_extension": ".py",
   "mimetype": "text/x-python",
   "name": "python",
   "nbconvert_exporter": "python",
   "pygments_lexer": "ipython3",
   "version": "3.12.7"
  }
 },
 "nbformat": 4,
 "nbformat_minor": 2
}
