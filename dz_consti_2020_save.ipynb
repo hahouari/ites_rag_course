{
 "cells": [
  {
   "cell_type": "markdown",
   "metadata": {},
   "source": [
    "# Saving Algerian Constitution 2020 into SurrealDB"
   ]
  },
  {
   "cell_type": "markdown",
   "metadata": {},
   "source": [
    "## 1. Importing libraries"
   ]
  },
  {
   "cell_type": "code",
   "execution_count": 10,
   "metadata": {},
   "outputs": [
    {
     "name": "stdout",
     "output_type": "stream",
     "text": [
      "Requirement already satisfied: surrealist in c:\\users\\hahouari\\anaconda3\\envs\\rag_course\\lib\\site-packages (1.0.7)\n",
      "Requirement already satisfied: einops in c:\\users\\hahouari\\anaconda3\\envs\\rag_course\\lib\\site-packages (0.8.0)\n",
      "Requirement already satisfied: openai in c:\\users\\hahouari\\anaconda3\\envs\\rag_course\\lib\\site-packages (1.55.2)\n",
      "Requirement already satisfied: python-dotenv in c:\\users\\hahouari\\anaconda3\\envs\\rag_course\\lib\\site-packages (1.0.1)\n",
      "Requirement already satisfied: websocket-client in c:\\users\\hahouari\\anaconda3\\envs\\rag_course\\lib\\site-packages (from surrealist) (1.8.0)\n",
      "Requirement already satisfied: anyio<5,>=3.5.0 in c:\\users\\hahouari\\anaconda3\\envs\\rag_course\\lib\\site-packages (from openai) (4.6.2.post1)\n",
      "Requirement already satisfied: distro<2,>=1.7.0 in c:\\users\\hahouari\\anaconda3\\envs\\rag_course\\lib\\site-packages (from openai) (1.9.0)\n",
      "Requirement already satisfied: httpx<1,>=0.23.0 in c:\\users\\hahouari\\anaconda3\\envs\\rag_course\\lib\\site-packages (from openai) (0.27.2)\n",
      "Requirement already satisfied: jiter<1,>=0.4.0 in c:\\users\\hahouari\\anaconda3\\envs\\rag_course\\lib\\site-packages (from openai) (0.8.0)\n",
      "Requirement already satisfied: pydantic<3,>=1.9.0 in c:\\users\\hahouari\\anaconda3\\envs\\rag_course\\lib\\site-packages (from openai) (2.10.2)\n",
      "Requirement already satisfied: sniffio in c:\\users\\hahouari\\anaconda3\\envs\\rag_course\\lib\\site-packages (from openai) (1.3.1)\n",
      "Requirement already satisfied: tqdm>4 in c:\\users\\hahouari\\anaconda3\\envs\\rag_course\\lib\\site-packages (from openai) (4.67.1)\n",
      "Requirement already satisfied: typing-extensions<5,>=4.11 in c:\\users\\hahouari\\anaconda3\\envs\\rag_course\\lib\\site-packages (from openai) (4.12.2)\n",
      "Requirement already satisfied: idna>=2.8 in c:\\users\\hahouari\\anaconda3\\envs\\rag_course\\lib\\site-packages (from anyio<5,>=3.5.0->openai) (3.10)\n",
      "Requirement already satisfied: certifi in c:\\users\\hahouari\\anaconda3\\envs\\rag_course\\lib\\site-packages (from httpx<1,>=0.23.0->openai) (2024.8.30)\n",
      "Requirement already satisfied: httpcore==1.* in c:\\users\\hahouari\\anaconda3\\envs\\rag_course\\lib\\site-packages (from httpx<1,>=0.23.0->openai) (1.0.7)\n",
      "Requirement already satisfied: h11<0.15,>=0.13 in c:\\users\\hahouari\\anaconda3\\envs\\rag_course\\lib\\site-packages (from httpcore==1.*->httpx<1,>=0.23.0->openai) (0.14.0)\n",
      "Requirement already satisfied: annotated-types>=0.6.0 in c:\\users\\hahouari\\anaconda3\\envs\\rag_course\\lib\\site-packages (from pydantic<3,>=1.9.0->openai) (0.7.0)\n",
      "Requirement already satisfied: pydantic-core==2.27.1 in c:\\users\\hahouari\\anaconda3\\envs\\rag_course\\lib\\site-packages (from pydantic<3,>=1.9.0->openai) (2.27.1)\n",
      "Requirement already satisfied: colorama in c:\\users\\hahouari\\anaconda3\\envs\\rag_course\\lib\\site-packages (from tqdm>4->openai) (0.4.6)\n",
      "Note: you may need to restart the kernel to use updated packages.\n"
     ]
    }
   ],
   "source": [
    "%pip install surrealist einops openai python-dotenv"
   ]
  },
  {
   "cell_type": "code",
   "execution_count": 11,
   "metadata": {},
   "outputs": [],
   "source": [
    "from datetime import datetime\n",
    "from surrealist import Surreal\n",
    "from openai import OpenAI\n",
    "import json\n",
    "import os\n",
    "\n",
    "%reload_ext dotenv\n",
    "%dotenv .env"
   ]
  },
  {
   "cell_type": "markdown",
   "metadata": {},
   "source": [
    "## 2. Load the data"
   ]
  },
  {
   "cell_type": "code",
   "execution_count": 12,
   "metadata": {},
   "outputs": [],
   "source": [
    "json_file_path = os.path.join(\"json\", \"dz_consti_2020.json\")\n",
    "with open(json_file_path, \"r\", encoding=\"utf-8\") as f:\n",
    "    constitution_data = json.load(f)"
   ]
  },
  {
   "cell_type": "markdown",
   "metadata": {},
   "source": [
    "## 3. Connect to the database"
   ]
  },
  {
   "cell_type": "code",
   "execution_count": 14,
   "metadata": {},
   "outputs": [
    {
     "name": "stdout",
     "output_type": "stream",
     "text": [
      "True\n",
      "surrealdb-2.1.2\n"
     ]
    }
   ],
   "source": [
    "surreal = Surreal(\"http://127.0.0.1:28900\", credentials=(os.getenv(\"SURREAL_USER\"), os.getenv(\"SURREAL_PASS\"))) \n",
    "print(surreal.is_ready())\n",
    "print(surreal.version())"
   ]
  },
  {
   "cell_type": "markdown",
   "metadata": {},
   "source": [
    "## 4. Embed articles and save to database"
   ]
  },
  {
   "cell_type": "code",
   "execution_count": 15,
   "metadata": {},
   "outputs": [],
   "source": [
    "client = OpenAI() # api key loaded from .env\n",
    "embed_model_name = \"text-embedding-3-small\"\n",
    "\n",
    "def save_constitution():\n",
    "    with surreal.connect() as db:\n",
    "        db.use('rag_course', \"test\")\n",
    "        db.query(\"DEFINE TABLE articles\")\n",
    "        titles = constitution_data['titles'][1:]\n",
    "        for title in titles:\n",
    "            chapters = title['chapters']\n",
    "            for chapter in chapters:\n",
    "                articles = chapter['articles']\n",
    "                for article in articles:\n",
    "                    # more about this on https://platform.openai.com/docs/guides/embeddings#how-to-get-embeddings\n",
    "                    response = client.embeddings.create(\n",
    "                        input=f\"{title['header']}: {chapter['header']}: {article}\",\n",
    "                        model=embed_model_name,\n",
    "                    )\n",
    "                    vector = response.data[0].embedding\n",
    "\n",
    "                    db.insert(\n",
    "                        \"articles\",\n",
    "                        [{\n",
    "                            \"text\": article,\n",
    "                            \"embed_vector\": vector,\n",
    "                            \"chapter\": chapter['header'],\n",
    "                            \"title\": title['header'],\n",
    "                            \"edition\": datetime(2020, 1, 1).strftime('%Y-%m-%dT%H:%M:%SZ'),\n",
    "                        }]\n",
    "                    )\n",
    "\n",
    "\n",
    "save_constitution()"
   ]
  },
  {
   "cell_type": "markdown",
   "metadata": {},
   "source": [
    "## 5. Test Search in Database"
   ]
  },
  {
   "cell_type": "code",
   "execution_count": 16,
   "metadata": {},
   "outputs": [
    {
     "name": "stdout",
     "output_type": "stream",
     "text": [
      "[\n",
      "  {\n",
      "    \"sim\": 0.21518109895288523,\n",
      "    \"text\": \"المادة 2 : الإسلام  دين الدّولة.\"\n",
      "  },\n",
      "  {\n",
      "    \"sim\": 0.19594855762608876,\n",
      "    \"text\": \"المادة 42  : لا مساس بحُرمة حرّيّة المعتقَد، وحُرمة حرّيّة الرّأي. حرية ممارسة العبادة مضمونة في ظل احترام القانون.\"\n",
      "  },\n",
      "  {\n",
      "    \"sim\": 0.1955959529057602,\n",
      "    \"text\": \"المادة 76  : على كلّ مواطن أن يؤدّي بإخلاص واجباته تجاه المجموعة الوطنيّة. التزام المواطن إزاء الوطن وإجباريّة المشاركة في الدّفاع عنه، واجبان مقدّسان دائمان. تضمن الدّولة احترام رموز الثّورة، وأرواح الشّهداء، وكرامة ذويهم، والمجاهدين. وتعمل كذلك على ترقية كتابة التاريخ وتعليمه للأجيال الناشئة.\"\n",
      "  },\n",
      "  {\n",
      "    \"sim\": 0.19093915343717585,\n",
      "    \"text\": \"المادة 10 : لا يجوز للمؤسّسات أن تقوم بما يأتي : - الممارسات الإقطاعيّة، والجهويّة، والمحسوبيّة، - إقامة علاقات الاستغلال والتّبعيّة، - السّلوك المخالف للخُلُق الإسلاميّ وقيم ثورة نوفمبر.\"\n",
      "  },\n",
      "  {\n",
      "    \"sim\": 0.18562842007122676,\n",
      "    \"text\": \"المادة 30 : الجزائر متضامنة مع جميع الشّعوب الّتي تكافح من أجل التّحرّر السّياسيّ والاقتصاديّ، والحقّ             في تقرير المصير، وضدّ كلّ تمييز عنصريّ.\"\n",
      "  },\n",
      "  {\n",
      "    \"sim\": 0.18447068273353506,\n",
      "    \"text\": \"المادة 77  : يمارس كلّ واحد جـميع حـرّيّاته، في إطار احترام الحقوق المعترَف بها لـلغـيـر في الـدّستور، لاسـيّــما احـتـرام الـحـقّ في الـشّرف، وستر الحياة الخاصّة، وحماية الأسرة والشّبيبة والطّفولة.\"\n",
      "  },\n",
      "  {\n",
      "    \"sim\": 0.17284993942380367,\n",
      "    \"text\": \"المادة 23 : لا يمكن أن تكون الوظائف والعُهدات في مؤسّسات الدّولة مصدرا للثّراء، ولا وسيلة لخدمة المصالح الخاصّة. يجب على كل شخص يُعين في وظيفة سامية في الدولة، أو يُنتخب في مجلس محلي، أو ينتخب أو يُعين في مجلس وطني أو في هيئة وطنية، أن يصرح بممتلكاته في بداية وظيفته أو عهدته وفي نهايتهما. يحدد القانون كيفيات تطبيق هذه الأحكام.\"\n",
      "  },\n",
      "  {\n",
      "    \"sim\": 0.1706204657102888,\n",
      "    \"text\": \"المادة 75  : يجب على كلّ مواطن أن يحمي ويصون استقلال البلاد وسيادتها وسلامة ترابها الوطنيّ ووحدة شعبها وجميع رموز الدّولة. يعاقب القانون بكلّ صرامة على الخيانة والتّجسّس والولاء للعدوّ، وعلى جميع الجرائم المرتكَبة ضدّ أمن الدّولة.\"\n",
      "  },\n",
      "  {\n",
      "    \"sim\": 0.1693103773364927,\n",
      "    \"text\": \"المادة 80  : يجب على كلّ مواطن أن يحمي الملكيّة العامّة، ومصالح المجموعة الوطنيّة، ويحترم ملكيّة الغير.\"\n",
      "  },\n",
      "  {\n",
      "    \"sim\": 0.1665397208544,\n",
      "    \"text\": \"المادة 79 : تحت طائلة المتابعات، يُلزم الأولياء بضمان تربية أبنائهم وعلى الأبناء واجب القيام بالإحسان إلى آبائهم ومساعدتهم.\"\n",
      "  }\n",
      "]\n"
     ]
    }
   ],
   "source": [
    "user_question = \"worshiping in Algeria\"\n",
    "# user_question = \"Qu'est-ce que je peux faire dans la guerre?\"\n",
    "\n",
    "response = client.embeddings.create(\n",
    "    input=user_question,\n",
    "    model=embed_model_name,\n",
    ")\n",
    "q_vector = response.data[0].embedding\n",
    "\n",
    "with surreal.connect() as db:\n",
    "    db.use('rag_course', \"test\")\n",
    "    res = db.query(\"SELECT text, vector::similarity::cosine(embed_vector, $q_vector) AS sim FROM articles ORDER BY sim DESC LIMIT 10\", {\"q_vector\": q_vector})\n",
    "\n",
    "print(json.dumps(res.result, indent=2, ensure_ascii=False))"
   ]
  },
  {
   "cell_type": "code",
   "execution_count": null,
   "metadata": {},
   "outputs": [],
   "source": []
  }
 ],
 "metadata": {
  "kernelspec": {
   "display_name": "rag_course",
   "language": "python",
   "name": "python3"
  },
  "language_info": {
   "codemirror_mode": {
    "name": "ipython",
    "version": 3
   },
   "file_extension": ".py",
   "mimetype": "text/x-python",
   "name": "python",
   "nbconvert_exporter": "python",
   "pygments_lexer": "ipython3",
   "version": "3.12.7"
  }
 },
 "nbformat": 4,
 "nbformat_minor": 2
}
