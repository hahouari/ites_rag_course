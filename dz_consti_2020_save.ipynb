{
 "cells": [
  {
   "cell_type": "markdown",
   "metadata": {},
   "source": [
    "# Saving Algerian Constitution into SurrealDB"
   ]
  },
  {
   "cell_type": "markdown",
   "metadata": {},
   "source": [
    "## 1. Importing libraries"
   ]
  },
  {
   "cell_type": "code",
   "execution_count": 45,
   "metadata": {},
   "outputs": [
    {
     "name": "stdout",
     "output_type": "stream",
     "text": [
      "Requirement already satisfied: python-dotenv==1.0.1 in c:\\users\\hahouari\\anaconda3\\envs\\rag_course\\lib\\site-packages (1.0.1)\n",
      "Requirement already satisfied: surrealdb==1.0.3 in c:\\users\\hahouari\\anaconda3\\envs\\rag_course\\lib\\site-packages (1.0.3)\n",
      "Requirement already satisfied: openai==1.63.0 in c:\\users\\hahouari\\anaconda3\\envs\\rag_course\\lib\\site-packages (1.63.0)\n",
      "Requirement already satisfied: Cerberus==1.3.7 in c:\\users\\hahouari\\anaconda3\\envs\\rag_course\\lib\\site-packages (from surrealdb==1.0.3) (1.3.7)\n",
      "Requirement already satisfied: aiohappyeyeballs==2.4.4 in c:\\users\\hahouari\\anaconda3\\envs\\rag_course\\lib\\site-packages (from surrealdb==1.0.3) (2.4.4)\n",
      "Requirement already satisfied: aiohttp==3.11.11 in c:\\users\\hahouari\\anaconda3\\envs\\rag_course\\lib\\site-packages (from surrealdb==1.0.3) (3.11.11)\n",
      "Requirement already satisfied: aiosignal==1.3.2 in c:\\users\\hahouari\\anaconda3\\envs\\rag_course\\lib\\site-packages (from surrealdb==1.0.3) (1.3.2)\n",
      "Requirement already satisfied: async-timeout==5.0.1 in c:\\users\\hahouari\\anaconda3\\envs\\rag_course\\lib\\site-packages (from surrealdb==1.0.3) (5.0.1)\n",
      "Requirement already satisfied: attrs==25.1.0 in c:\\users\\hahouari\\anaconda3\\envs\\rag_course\\lib\\site-packages (from surrealdb==1.0.3) (25.1.0)\n",
      "Requirement already satisfied: cbor2==5.6.5 in c:\\users\\hahouari\\anaconda3\\envs\\rag_course\\lib\\site-packages (from surrealdb==1.0.3) (5.6.5)\n",
      "Requirement already satisfied: certifi==2024.12.14 in c:\\users\\hahouari\\anaconda3\\envs\\rag_course\\lib\\site-packages (from surrealdb==1.0.3) (2024.12.14)\n",
      "Requirement already satisfied: charset-normalizer==3.4.1 in c:\\users\\hahouari\\anaconda3\\envs\\rag_course\\lib\\site-packages (from surrealdb==1.0.3) (3.4.1)\n",
      "Requirement already satisfied: frozenlist==1.5.0 in c:\\users\\hahouari\\anaconda3\\envs\\rag_course\\lib\\site-packages (from surrealdb==1.0.3) (1.5.0)\n",
      "Requirement already satisfied: idna==3.10 in c:\\users\\hahouari\\anaconda3\\envs\\rag_course\\lib\\site-packages (from surrealdb==1.0.3) (3.10)\n",
      "Requirement already satisfied: marshmallow==3.26.0 in c:\\users\\hahouari\\anaconda3\\envs\\rag_course\\lib\\site-packages (from surrealdb==1.0.3) (3.26.0)\n",
      "Requirement already satisfied: multidict==6.1.0 in c:\\users\\hahouari\\anaconda3\\envs\\rag_course\\lib\\site-packages (from surrealdb==1.0.3) (6.1.0)\n",
      "Requirement already satisfied: packaging==24.2 in c:\\users\\hahouari\\anaconda3\\envs\\rag_course\\lib\\site-packages (from surrealdb==1.0.3) (24.2)\n",
      "Requirement already satisfied: propcache==0.2.1 in c:\\users\\hahouari\\anaconda3\\envs\\rag_course\\lib\\site-packages (from surrealdb==1.0.3) (0.2.1)\n",
      "Requirement already satisfied: pytz==2024.2 in c:\\users\\hahouari\\anaconda3\\envs\\rag_course\\lib\\site-packages (from surrealdb==1.0.3) (2024.2)\n",
      "Requirement already satisfied: requests==2.32.3 in c:\\users\\hahouari\\anaconda3\\envs\\rag_course\\lib\\site-packages (from surrealdb==1.0.3) (2.32.3)\n",
      "Requirement already satisfied: typing_extensions==4.12.2 in c:\\users\\hahouari\\anaconda3\\envs\\rag_course\\lib\\site-packages (from surrealdb==1.0.3) (4.12.2)\n",
      "Requirement already satisfied: urllib3==2.3.0 in c:\\users\\hahouari\\anaconda3\\envs\\rag_course\\lib\\site-packages (from surrealdb==1.0.3) (2.3.0)\n",
      "Requirement already satisfied: websockets==14.2 in c:\\users\\hahouari\\anaconda3\\envs\\rag_course\\lib\\site-packages (from surrealdb==1.0.3) (14.2)\n",
      "Requirement already satisfied: yarl==1.18.3 in c:\\users\\hahouari\\anaconda3\\envs\\rag_course\\lib\\site-packages (from surrealdb==1.0.3) (1.18.3)\n",
      "Requirement already satisfied: anyio<5,>=3.5.0 in c:\\users\\hahouari\\anaconda3\\envs\\rag_course\\lib\\site-packages (from openai==1.63.0) (4.6.2.post1)\n",
      "Requirement already satisfied: distro<2,>=1.7.0 in c:\\users\\hahouari\\anaconda3\\envs\\rag_course\\lib\\site-packages (from openai==1.63.0) (1.9.0)\n",
      "Requirement already satisfied: httpx<1,>=0.23.0 in c:\\users\\hahouari\\anaconda3\\envs\\rag_course\\lib\\site-packages (from openai==1.63.0) (0.27.2)\n",
      "Requirement already satisfied: jiter<1,>=0.4.0 in c:\\users\\hahouari\\anaconda3\\envs\\rag_course\\lib\\site-packages (from openai==1.63.0) (0.8.0)\n",
      "Requirement already satisfied: pydantic<3,>=1.9.0 in c:\\users\\hahouari\\anaconda3\\envs\\rag_course\\lib\\site-packages (from openai==1.63.0) (2.10.2)\n",
      "Requirement already satisfied: sniffio in c:\\users\\hahouari\\anaconda3\\envs\\rag_course\\lib\\site-packages (from openai==1.63.0) (1.3.1)\n",
      "Requirement already satisfied: tqdm>4 in c:\\users\\hahouari\\anaconda3\\envs\\rag_course\\lib\\site-packages (from openai==1.63.0) (4.67.1)\n",
      "Requirement already satisfied: httpcore==1.* in c:\\users\\hahouari\\anaconda3\\envs\\rag_course\\lib\\site-packages (from httpx<1,>=0.23.0->openai==1.63.0) (1.0.7)\n",
      "Requirement already satisfied: h11<0.15,>=0.13 in c:\\users\\hahouari\\anaconda3\\envs\\rag_course\\lib\\site-packages (from httpcore==1.*->httpx<1,>=0.23.0->openai==1.63.0) (0.14.0)\n",
      "Requirement already satisfied: annotated-types>=0.6.0 in c:\\users\\hahouari\\anaconda3\\envs\\rag_course\\lib\\site-packages (from pydantic<3,>=1.9.0->openai==1.63.0) (0.7.0)\n",
      "Requirement already satisfied: pydantic-core==2.27.1 in c:\\users\\hahouari\\anaconda3\\envs\\rag_course\\lib\\site-packages (from pydantic<3,>=1.9.0->openai==1.63.0) (2.27.1)\n",
      "Requirement already satisfied: colorama in c:\\users\\hahouari\\anaconda3\\envs\\rag_course\\lib\\site-packages (from tqdm>4->openai==1.63.0) (0.4.6)\n",
      "Note: you may need to restart the kernel to use updated packages.\n"
     ]
    }
   ],
   "source": [
    "%pip install python-dotenv==1.0.1 surrealdb==1.0.3 openai==1.63.0"
   ]
  },
  {
   "cell_type": "code",
   "execution_count": 46,
   "metadata": {},
   "outputs": [
    {
     "data": {
      "text/plain": [
       "True"
      ]
     },
     "execution_count": 46,
     "metadata": {},
     "output_type": "execute_result"
    }
   ],
   "source": [
    "from datetime import datetime\n",
    "from dotenv import load_dotenv\n",
    "from surrealdb import Surreal\n",
    "from openai import OpenAI\n",
    "import json\n",
    "import os\n",
    "\n",
    "load_dotenv(override=True)"
   ]
  },
  {
   "cell_type": "markdown",
   "metadata": {},
   "source": [
    "## 2. Load the data"
   ]
  },
  {
   "cell_type": "code",
   "execution_count": 47,
   "metadata": {},
   "outputs": [],
   "source": [
    "json_file_path = os.path.join(\"json\", \"dz_consti_2020.json\")\n",
    "with open(json_file_path, \"r\", encoding=\"utf-8\") as f:\n",
    "    constitution_data = json.load(f)"
   ]
  },
  {
   "cell_type": "markdown",
   "metadata": {},
   "source": [
    "## 3. Connect to the database"
   ]
  },
  {
   "cell_type": "code",
   "execution_count": 48,
   "metadata": {},
   "outputs": [
    {
     "name": "stdout",
     "output_type": "stream",
     "text": [
      "surrealdb-2.2.0\n"
     ]
    }
   ],
   "source": [
    "db = Surreal(os.getenv(\"SURREAL_URL\"))\n",
    "db.signin({\"username\": os.getenv(\"SURREAL_USER\"), \"password\": os.getenv(\"SURREAL_PASS\")})\n",
    "db.use(os.getenv(\"SURREAL_NAMESPACE\"), os.getenv(\"SURREAL_DATABASE\"))\n",
    "\n",
    "print(db.version())"
   ]
  },
  {
   "cell_type": "markdown",
   "metadata": {},
   "source": [
    "## 4. Embed articles and save to database"
   ]
  },
  {
   "cell_type": "code",
   "execution_count": 49,
   "metadata": {},
   "outputs": [],
   "source": [
    "client = OpenAI() # api key loaded from .env\n",
    "embed_model_name = \"text-embedding-3-small\"\n",
    "\n",
    "def save_constitution():\n",
    "    for article in constitution_data:\n",
    "        article_text = article['article']\n",
    "        title_header = article['title']\n",
    "        chapter_header = article['chapter']\n",
    "        # more about this on https://platform.openai.com/docs/guides/embeddings#how-to-get-embeddings\n",
    "        response = client.embeddings.create(\n",
    "            input=f\"{title_header}: {chapter_header}: {article}\",\n",
    "            model=embed_model_name,\n",
    "        )\n",
    "        vector = response.data[0].embedding\n",
    "\n",
    "        db.insert(\n",
    "            \"articles\",\n",
    "            [{\n",
    "                \"text\": article_text,\n",
    "                \"embed_vector\": vector,\n",
    "                \"chapter\": chapter_header,\n",
    "                \"title\": title_header,\n",
    "                \"edition\": datetime(2020, 11, 1).strftime('%Y-%m-%dT%H:%M:%SZ'),\n",
    "            }]\n",
    "        )\n",
    "\n",
    "\n",
    "save_constitution()"
   ]
  },
  {
   "cell_type": "markdown",
   "metadata": {},
   "source": [
    "## 5. Test Search in Database"
   ]
  },
  {
   "cell_type": "code",
   "execution_count": null,
   "metadata": {},
   "outputs": [
    {
     "name": "stdout",
     "output_type": "stream",
     "text": [
      "[\n",
      "  {\n",
      "    \"score\": 0.17552665383723876,\n",
      "    \"text\": \"المادة 110 : يُوقَف العمل بالدّستور مدّة حالة الحرب ويتولّى رئيس الجمهوريّة جميع السّلطات. وإذا انتهت المدّة الرّئاسيّة لرئيس الجمهوريّة تمدّد وجوبا إلى غاية نهاية الحرب. في حالة استقالة رئيس الجمهوريّة أو وفاته أو حدوث أيّ مانع آخر له، يخوّل رئيس مجلس الأمّة باعتباره رئيسا للدّولة، كلّ الصّلاحيّات الّتي تستوجبها حالة الحرب، حسب الشّروط نفسها الّتي تسري على رئيس الجمهوريّة. في حالة اقتران شغور رئاسة الجمهوريّة ورئاسة مجلس الأمّة، يتولّى رئيس المجلس الدّستوريّ وظائف رئيس الدّولة حسب الشّروط المبيّنة سابقا.\"\n",
      "  },\n",
      "  {\n",
      "    \"score\": 0.16457101500841095,\n",
      "    \"text\": \"المادة 28 : تنتظم الطّاقة الدّفاعيّة للأمّة، ودعمها، وتطويرها، حول الجيش الوطنيّ الشّعبيّ. تتمثّل المهمّة الدّائمة للجيش الوطنيّ الشّعبيّ في المحافظة على الاستقلال الوطنيّ، والدّفاع عن السّيادة الوطنيّة. كما يضطلع بالدّفاع عن وحدة البلاد، وسلامتها التّرابيّة، وحماية مجالها البرّيّ والجوّيّ، ومختلف مناطق أملاكها البحريّة.\"\n",
      "  },\n",
      "  {\n",
      "    \"score\": 0.15715455621030833,\n",
      "    \"text\": \"المادة 29 : تمتنع الجزائر عن اللّجوء إلى الحرب من أجل المساس بالسّيادة المشروعة للشّعوب الأخرى وحرّيّتها. وتبذل جهدها لتسوية الخلافات الدّوليّة بالوسائل السّلميّة.\"\n",
      "  },\n",
      "  {\n",
      "    \"score\": 0.15619090171478578,\n",
      "    \"text\": \"المادة 169 : الحقّ في الدّفاع معترف به. الحقّ في الدّفاع مضمون في القضايا الجزائيّة.\"\n",
      "  },\n",
      "  {\n",
      "    \"score\": 0.15542643384989527,\n",
      "    \"text\": \"المادة 109 : إذا وقع عُدوان فعليّ على البلاد أو يوشك أن يقع حسبما نصّت عليه التّرتيبات الملائمة لميثاق الأمم المتّحدة، يُعلِن رئيس الجمهوريّة الحرب، بعد اجتماع مجلس الوزراء والاستماع إلى المجلس الأعلى للأمن واستشارة رئيس مجلس الأمة ورئيس المجلس الشّعبيّ الوطنيّ ورئيس المجلس الدستوري. ويجتمع البرلمان وجوبا. ويوجّه رئيس الجمهوريّة خطابا للأمّة يُعلِمُها بذلك.\"\n",
      "  },\n",
      "  {\n",
      "    \"score\": 0.14515848655527328,\n",
      "    \"text\": \"المادة 105 : يقرّر رئيس الجمهوريّة، إذا دعت الضّرورة الملحّة، حالة الطّوارئ أو الحصار، لمدّة معيّنة بعد اجتماع المجلس الأعلى للأمن، واستشارة رئيس مجلس الأمة، ورئيس المجلس الشعبي الوطني، والوزير الأول،  ورئيس المجلس الدّستوريّ، ويتّخذ كلّ التّدابير اللاّزمة لاستتباب الوضع. ولا يمكن تمديد حالة الطّوارئ  أو الحصار، إلاّ بعد موافقة البرلمان المنعقد بغرفتيه المجتمعتين معا.\"\n",
      "  },\n",
      "  {\n",
      "    \"score\": 0.14336817768236237,\n",
      "    \"text\": \"المادة 75  : يجب على كلّ مواطن أن يحمي ويصون استقلال البلاد وسيادتها وسلامة ترابها الوطنيّ ووحدة شعبها وجميع رموز الدّولة. يعاقب القانون بكلّ صرامة على الخيانة والتّجسّس والولاء للعدوّ، وعلى جميع الجرائم المرتكَبة ضدّ أمن الدّولة.\"\n",
      "  },\n",
      "  {\n",
      "    \"score\": 0.13676499194070582,\n",
      "    \"text\": \"المادة 76  : على كلّ مواطن أن يؤدّي بإخلاص واجباته تجاه المجموعة الوطنيّة. التزام المواطن إزاء الوطن وإجباريّة المشاركة في الدّفاع عنه، واجبان مقدّسان دائمان. تضمن الدّولة احترام رموز الثّورة، وأرواح الشّهداء، وكرامة ذويهم، والمجاهدين. وتعمل كذلك على ترقية كتابة التاريخ وتعليمه للأجيال الناشئة.\"\n",
      "  },\n",
      "  {\n",
      "    \"score\": 0.1311376750397241,\n",
      "    \"text\": \"المادة 107 : يقرّر رئيس الجمهوريّة الحالة الاستثنائيّة إذا كانت البلاد مهدّدة بخطر داهم يوشك أن يصيب مؤسّساتها الدّستوريّة أو استقلالها أو سلامة ترابها. ولا يتّخذ مثل هذا الإجراء إلاّ بعد استشارة رئيس مجلس الأمة، ورئيس المجلس الشعبي الوطني، ورئيس المجلس  الدّستوريّ، والاستماع إلى المجلس الأعلى للأمن ومجلس الوزراء. تخوّل الحالة الاستثنائيّة رئيس الجمهوريّة أن يتّخذ الإجراءات الاستثنائيّة الّتي تستوجبها المحافظة على استقلال الأمّة والمؤسّسات الدّستوريّة في الجمهوريّة. ويجتمع البرلمان وجوبا. تنتهي الحالة الاستثنائيّة، حسب الأشكال والإجراءات السّالفة الذّكر الّتي أوجبَت إعلانها.\"\n",
      "  },\n",
      "  {\n",
      "    \"score\": 0.12942139371997435,\n",
      "    \"text\": \"المادة 156 : السّلطة القضائيّة مستقلّة، وتُمارَس في إطار القانون. رئيس الجمهورية ضامن استقلال السلطة القضائية.\"\n",
      "  }\n",
      "]\n"
     ]
    }
   ],
   "source": [
    "# user_question = \"worshiping in Algeria\"\n",
    "user_question = \"Qu'est-ce que je peux faire dans la guerre?\"\n",
    "\n",
    "response = client.embeddings.create(\n",
    "    input=user_question,\n",
    "    model=embed_model_name,\n",
    ")\n",
    "q_vector = response.data[0].embedding\n",
    "\n",
    "results = db.query(\"\"\"\n",
    "    SELECT\n",
    "        text,\n",
    "        vector::similarity::cosine(embed_vector, $q_vector) AS score\n",
    "    FROM articles\n",
    "    ORDER BY score DESC\n",
    "    LIMIT 10\n",
    "    \"\"\",\n",
    "    {\"q_vector\": q_vector},\n",
    ")\n",
    "\n",
    "print(json.dumps(results, indent=2, ensure_ascii=False))"
   ]
  },
  {
   "cell_type": "code",
   "execution_count": null,
   "metadata": {},
   "outputs": [],
   "source": []
  }
 ],
 "metadata": {
  "kernelspec": {
   "display_name": "rag_course",
   "language": "python",
   "name": "python3"
  },
  "language_info": {
   "codemirror_mode": {
    "name": "ipython",
    "version": 3
   },
   "file_extension": ".py",
   "mimetype": "text/x-python",
   "name": "python",
   "nbconvert_exporter": "python",
   "pygments_lexer": "ipython3",
   "version": "3.12.7"
  }
 },
 "nbformat": 4,
 "nbformat_minor": 2
}
