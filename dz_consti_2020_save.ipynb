{
 "cells": [
  {
   "cell_type": "markdown",
   "metadata": {},
   "source": [
    "# Saving Algerian Constitution 2020 into SurrealDB"
   ]
  },
  {
   "cell_type": "markdown",
   "metadata": {},
   "source": [
    "## 1. Importing libraries"
   ]
  },
  {
   "cell_type": "code",
   "execution_count": 2,
   "metadata": {},
   "outputs": [
    {
     "name": "stdout",
     "output_type": "stream",
     "text": [
      "Requirement already satisfied: surrealist in c:\\users\\hahouari\\anaconda3\\envs\\rag_course\\lib\\site-packages (1.0.7)\n",
      "Requirement already satisfied: einops in c:\\users\\hahouari\\anaconda3\\envs\\rag_course\\lib\\site-packages (0.8.0)\n",
      "Requirement already satisfied: openai in c:\\users\\hahouari\\anaconda3\\envs\\rag_course\\lib\\site-packages (1.55.2)\n",
      "Requirement already satisfied: python-dotenv in c:\\users\\hahouari\\anaconda3\\envs\\rag_course\\lib\\site-packages (1.0.1)\n",
      "Requirement already satisfied: websocket-client in c:\\users\\hahouari\\anaconda3\\envs\\rag_course\\lib\\site-packages (from surrealist) (1.8.0)\n",
      "Requirement already satisfied: anyio<5,>=3.5.0 in c:\\users\\hahouari\\anaconda3\\envs\\rag_course\\lib\\site-packages (from openai) (4.6.2.post1)\n",
      "Requirement already satisfied: distro<2,>=1.7.0 in c:\\users\\hahouari\\anaconda3\\envs\\rag_course\\lib\\site-packages (from openai) (1.9.0)\n",
      "Requirement already satisfied: httpx<1,>=0.23.0 in c:\\users\\hahouari\\anaconda3\\envs\\rag_course\\lib\\site-packages (from openai) (0.27.2)\n",
      "Requirement already satisfied: jiter<1,>=0.4.0 in c:\\users\\hahouari\\anaconda3\\envs\\rag_course\\lib\\site-packages (from openai) (0.8.0)\n",
      "Requirement already satisfied: pydantic<3,>=1.9.0 in c:\\users\\hahouari\\anaconda3\\envs\\rag_course\\lib\\site-packages (from openai) (2.10.2)\n",
      "Requirement already satisfied: sniffio in c:\\users\\hahouari\\anaconda3\\envs\\rag_course\\lib\\site-packages (from openai) (1.3.1)\n",
      "Requirement already satisfied: tqdm>4 in c:\\users\\hahouari\\anaconda3\\envs\\rag_course\\lib\\site-packages (from openai) (4.67.1)\n",
      "Requirement already satisfied: typing-extensions<5,>=4.11 in c:\\users\\hahouari\\anaconda3\\envs\\rag_course\\lib\\site-packages (from openai) (4.12.2)\n",
      "Requirement already satisfied: idna>=2.8 in c:\\users\\hahouari\\anaconda3\\envs\\rag_course\\lib\\site-packages (from anyio<5,>=3.5.0->openai) (3.10)\n",
      "Requirement already satisfied: certifi in c:\\users\\hahouari\\anaconda3\\envs\\rag_course\\lib\\site-packages (from httpx<1,>=0.23.0->openai) (2024.8.30)\n",
      "Requirement already satisfied: httpcore==1.* in c:\\users\\hahouari\\anaconda3\\envs\\rag_course\\lib\\site-packages (from httpx<1,>=0.23.0->openai) (1.0.7)\n",
      "Requirement already satisfied: h11<0.15,>=0.13 in c:\\users\\hahouari\\anaconda3\\envs\\rag_course\\lib\\site-packages (from httpcore==1.*->httpx<1,>=0.23.0->openai) (0.14.0)\n",
      "Requirement already satisfied: annotated-types>=0.6.0 in c:\\users\\hahouari\\anaconda3\\envs\\rag_course\\lib\\site-packages (from pydantic<3,>=1.9.0->openai) (0.7.0)\n",
      "Requirement already satisfied: pydantic-core==2.27.1 in c:\\users\\hahouari\\anaconda3\\envs\\rag_course\\lib\\site-packages (from pydantic<3,>=1.9.0->openai) (2.27.1)\n",
      "Requirement already satisfied: colorama in c:\\users\\hahouari\\anaconda3\\envs\\rag_course\\lib\\site-packages (from tqdm>4->openai) (0.4.6)\n",
      "Note: you may need to restart the kernel to use updated packages.\n"
     ]
    }
   ],
   "source": [
    "%pip install surrealist einops openai python-dotenv"
   ]
  },
  {
   "cell_type": "code",
   "execution_count": 3,
   "metadata": {},
   "outputs": [],
   "source": [
    "from datetime import datetime\n",
    "from surrealist import Surreal\n",
    "from openai import OpenAI\n",
    "import json\n",
    "import os\n",
    "\n",
    "%reload_ext dotenv\n",
    "%dotenv .env"
   ]
  },
  {
   "cell_type": "markdown",
   "metadata": {},
   "source": [
    "## 2. Load the data"
   ]
  },
  {
   "cell_type": "code",
   "execution_count": 4,
   "metadata": {},
   "outputs": [],
   "source": [
    "json_file_path = os.path.join(\"json\", \"dz_consti_2020.json\")\n",
    "with open(json_file_path, \"r\", encoding=\"utf-8\") as f:\n",
    "    constitution_data = json.load(f)"
   ]
  },
  {
   "cell_type": "markdown",
   "metadata": {},
   "source": [
    "## 3. Connect to the database"
   ]
  },
  {
   "cell_type": "code",
   "execution_count": 5,
   "metadata": {},
   "outputs": [
    {
     "name": "stdout",
     "output_type": "stream",
     "text": [
      "True\n",
      "surrealdb-2.1.0\n"
     ]
    }
   ],
   "source": [
    "surreal = Surreal(\"http://127.0.0.1:28900\", credentials=(os.getenv(\"SURREAL_USER\"), os.getenv(\"SURREAL_PASS\"))) \n",
    "print(surreal.is_ready())\n",
    "print(surreal.version())"
   ]
  },
  {
   "cell_type": "markdown",
   "metadata": {},
   "source": [
    "## 4. Embed articles and save to database"
   ]
  },
  {
   "cell_type": "code",
   "execution_count": 9,
   "metadata": {},
   "outputs": [],
   "source": [
    "model_name = \"text-embedding-3-small\"\n",
    "client = OpenAI() # api key loaded from .env\n",
    "\n",
    "def save_constitution():\n",
    "    with surreal.connect() as db:\n",
    "        db.use('ites', \"test\")\n",
    "        db.query(\"DEFINE TABLE articles\")\n",
    "        titles = constitution_data['titles'][1:]\n",
    "        for title in titles:\n",
    "            chapters = title['chapters']\n",
    "            for chapter in chapters:\n",
    "                articles = chapter['articles']\n",
    "                for article in articles:\n",
    "                    # more about this on https://platform.openai.com/docs/guides/embeddings#how-to-get-embeddings\n",
    "                    response = client.embeddings.create(\n",
    "                        input=f\"{title['header']}: {chapter['header']}: {article}\",\n",
    "                        model=model_name,\n",
    "                    )\n",
    "                    vector = response.data[0].embedding\n",
    "\n",
    "                    db.insert(\n",
    "                        \"articles\",\n",
    "                        [{\n",
    "                            \"text\": article,\n",
    "                            \"embed_vector\": vector,\n",
    "                            \"chapter\": chapter['header'],\n",
    "                            \"title\": title['header'],\n",
    "                            \"edition\": datetime(2020, 1, 1).strftime('%Y-%m-%dT%H:%M:%SZ'),\n",
    "                        }]\n",
    "                    )\n",
    "\n",
    "\n",
    "save_constitution()"
   ]
  },
  {
   "cell_type": "code",
   "execution_count": null,
   "metadata": {},
   "outputs": [
    {
     "name": "stdout",
     "output_type": "stream",
     "text": [
      "[\n",
      "  {\n",
      "    \"sim\": 0.21771088476828357,\n",
      "    \"text\": \"المادة 29 : تمتنع الجزائر عن اللّجوء إلى الحرب من أجل المساس بالسّيادة المشروعة للشّعوب الأخرى وحرّيّتها. وتبذل جهدها لتسوية الخلافات الدّوليّة بالوسائل السّلميّة.\"\n",
      "  },\n",
      "  {\n",
      "    \"sim\": 0.19280549397366195,\n",
      "    \"text\": \"المادة 169 : الحقّ في الدّفاع معترف به. الحقّ في الدّفاع مضمون في القضايا الجزائيّة.\"\n",
      "  },\n",
      "  {\n",
      "    \"sim\": 0.18122965020704287,\n",
      "    \"text\": \"المادة 28 : تنتظم الطّاقة الدّفاعيّة للأمّة، ودعمها، وتطويرها، حول الجيش الوطنيّ الشّعبيّ. تتمثّل المهمّة الدّائمة للجيش الوطنيّ الشّعبيّ في المحافظة على الاستقلال الوطنيّ، والدّفاع عن السّيادة الوطنيّة. كما يضطلع بالدّفاع عن وحدة البلاد، وسلامتها التّرابيّة، وحماية مجالها البرّيّ والجوّيّ، ومختلف مناطق أملاكها البحريّة.\"\n",
      "  },\n",
      "  {\n",
      "    \"sim\": 0.17849468826703682,\n",
      "    \"text\": \"المادة 71  : الحقّ في الإضراب مُعترَف به، ويُمارَس في إطار القانون. يمكن أن يمنع القانون ممارسة هذا الحقّ، أو يجعل حدودا لممارسته في ميادين الدّفاع الوطنيّ والأمن، أو في جميع الخدمات أو الأعمال العموميّة ذات المنفعة الحيويّة للمجتمع.\"\n",
      "  },\n",
      "  {\n",
      "    \"sim\": 0.1755343164617048,\n",
      "    \"text\": \"المادة 106 : يحدّد تنظيم حالة الطّوارئ وحالة الحصار بموجب قانون عضويّ.\"\n",
      "  },\n",
      "  {\n",
      "    \"sim\": 0.17260513343593017,\n",
      "    \"text\": \"المادة 110 : يُوقَف العمل بالدّستور مدّة حالة الحرب ويتولّى رئيس الجمهوريّة جميع السّلطات. وإذا انتهت المدّة الرّئاسيّة لرئيس الجمهوريّة تمدّد وجوبا إلى غاية نهاية الحرب. في حالة استقالة رئيس الجمهوريّة أو وفاته أو حدوث أيّ مانع آخر له، يخوّل رئيس مجلس الأمّة باعتباره رئيسا للدّولة، كلّ الصّلاحيّات الّتي تستوجبها حالة الحرب، حسب الشّروط نفسها الّتي تسري على رئيس الجمهوريّة. في حالة اقتران شغور رئاسة الجمهوريّة ورئاسة مجلس الأمّة، يتولّى رئيس المجلس الدّستوريّ وظائف رئيس الدّولة حسب الشّروط المبيّنة سابقا.\"\n",
      "  },\n",
      "  {\n",
      "    \"sim\": 0.17102316673323564,\n",
      "    \"text\": \"المادة 105 : يقرّر رئيس الجمهوريّة، إذا دعت الضّرورة الملحّة، حالة الطّوارئ أو الحصار، لمدّة معيّنة بعد اجتماع المجلس الأعلى للأمن، واستشارة رئيس مجلس الأمة، ورئيس المجلس الشعبي الوطني، والوزير الأول،  ورئيس المجلس الدّستوريّ، ويتّخذ كلّ التّدابير اللاّزمة لاستتباب الوضع. ولا يمكن تمديد حالة الطّوارئ  أو الحصار، إلاّ بعد موافقة البرلمان المنعقد بغرفتيه المجتمعتين معا.\"\n",
      "  },\n",
      "  {\n",
      "    \"sim\": 0.16714686218036998,\n",
      "    \"text\": \"المادة 75  : يجب على كلّ مواطن أن يحمي ويصون استقلال البلاد وسيادتها وسلامة ترابها الوطنيّ ووحدة شعبها وجميع رموز الدّولة. يعاقب القانون بكلّ صرامة على الخيانة والتّجسّس والولاء للعدوّ، وعلى جميع الجرائم المرتكَبة ضدّ أمن الدّولة.\"\n",
      "  },\n",
      "  {\n",
      "    \"sim\": 0.16159931970018407,\n",
      "    \"text\": \"المادة 158 : أساس القضاء مبادئ الشّرعيّة والمساواة. الكلّ سواسية أمام القضاء، وهو في متناول الجميع ويجسّده احترام القانون.\"\n",
      "  },\n",
      "  {\n",
      "    \"sim\": 0.15638923124941925,\n",
      "    \"text\": \"المادة 109 : إذا وقع عُدوان فعليّ على البلاد أو يوشك أن يقع حسبما نصّت عليه التّرتيبات الملائمة لميثاق الأمم المتّحدة، يُعلِن رئيس الجمهوريّة الحرب، بعد اجتماع مجلس الوزراء والاستماع إلى المجلس الأعلى للأمن واستشارة رئيس مجلس الأمة ورئيس المجلس الشّعبيّ الوطنيّ ورئيس المجلس الدستوري. ويجتمع البرلمان وجوبا. ويوجّه رئيس الجمهوريّة خطابا للأمّة يُعلِمُها بذلك.\"\n",
      "  }\n",
      "]\n"
     ]
    }
   ],
   "source": [
    "user_question = \"worshiping in Algeria\"\n",
    "# user_question = \"Qu'est-ce que je peux faire dans la guerre?\"\n",
    "\n",
    "response = client.embeddings.create(\n",
    "    input=user_question,\n",
    "    model=model_name,\n",
    ")\n",
    "q_vector = response.data[0].embedding\n",
    "\n",
    "with surreal.connect() as db:\n",
    "    db.use('ites', \"test\")\n",
    "    res = db.query(\"SELECT text, vector::similarity::cosine(embed_vector, $q_vector) AS sim FROM articles ORDER BY sim DESC LIMIT 10\", {\"q_vector\": q_vector})\n",
    "\n",
    "print(json.dumps(res.result, indent=2, ensure_ascii=False))"
   ]
  },
  {
   "cell_type": "code",
   "execution_count": null,
   "metadata": {},
   "outputs": [],
   "source": []
  }
 ],
 "metadata": {
  "kernelspec": {
   "display_name": "rag_course",
   "language": "python",
   "name": "python3"
  },
  "language_info": {
   "codemirror_mode": {
    "name": "ipython",
    "version": 3
   },
   "file_extension": ".py",
   "mimetype": "text/x-python",
   "name": "python",
   "nbconvert_exporter": "python",
   "pygments_lexer": "ipython3",
   "version": "3.12.7"
  }
 },
 "nbformat": 4,
 "nbformat_minor": 2
}
